{
 "cells": [
  {
   "cell_type": "code",
   "execution_count": 2,
   "metadata": {},
   "outputs": [],
   "source": [
    "##N QUEEN PROBLEM CODE\n",
    "global n\n",
    "n = 2\n",
    "  \n",
    "def printS(board): \n",
    "    for i in range(n): \n",
    "        for j in range(n): \n",
    "            print (board[i][j]), \n",
    "        print\n",
    "  "
   ]
  },
  {
   "cell_type": "code",
   "execution_count": 3,
   "metadata": {},
   "outputs": [],
   "source": [
    "def seq(board, row, col): \n",
    "    \n",
    "    for i, j in zip(range(row, -1, -1), range(col, -1, -1)): \n",
    "        if board[i][j] == 1: \n",
    "            return False\n",
    "  \n",
    "    \n",
    "    for i in range(col): \n",
    "        if board[row][i] == 1: \n",
    "            return False\n",
    "  \n",
    "  \n",
    "  \n",
    "    \n",
    "    for i, j in zip(range(row, N, 1), range(col, -1, -1)): \n",
    "        if board[i][j] == 1: \n",
    "            return False\n",
    "  \n",
    "    return True"
   ]
  },
  {
   "cell_type": "code",
   "execution_count": 5,
   "metadata": {},
   "outputs": [
    {
     "name": "stdout",
     "output_type": "stream",
     "text": [
      "0\n",
      "0\n",
      "1\n",
      "0\n",
      "1\n",
      "0\n",
      "0\n",
      "0\n",
      "0\n",
      "0\n",
      "0\n",
      "1\n",
      "0\n",
      "1\n",
      "0\n",
      "0\n"
     ]
    },
    {
     "data": {
      "text/plain": [
       "True"
      ]
     },
     "execution_count": 5,
     "metadata": {},
     "output_type": "execute_result"
    }
   ],
   "source": [
    "def solNQ(board, col): \n",
    "     \n",
    "    if col >= N: \n",
    "        return True\n",
    "  \n",
    "     \n",
    "    for i in range(N): \n",
    "  \n",
    "        if isSafe(board, i, col): \n",
    "           \n",
    "            board[i][col] = 1\n",
    "  \n",
    "            \n",
    "            if solveNQUtil(board, col + 1) == True: \n",
    "                return True\n",
    "  \n",
    "           \n",
    "            board[i][col] = 0\n",
    "  \n",
    "    return False\n",
    "\n",
    " \n",
    "def solveNQ(): \n",
    "    board = [ [0, 0, 0, 0], \n",
    "              [0, 0, 0, 0], \n",
    "              [0, 0, 0, 0], \n",
    "              [0, 0, 0, 0] \n",
    "             ] \n",
    "  \n",
    "    if solveNQUtil(board, 0) == False: \n",
    "        print (\"Solution does not exist\")\n",
    "        return False\n",
    "  \n",
    "    printSolution(board) \n",
    "    return True\n",
    "  \n",
    "\n",
    "solveNQ() \n",
    "  "
   ]
  }
 ],
 "metadata": {
  "kernelspec": {
   "display_name": "Python 3",
   "language": "python",
   "name": "python3"
  },
  "language_info": {
   "codemirror_mode": {
    "name": "ipython",
    "version": 3
   },
   "file_extension": ".py",
   "mimetype": "text/x-python",
   "name": "python",
   "nbconvert_exporter": "python",
   "pygments_lexer": "ipython3",
   "version": "3.7.1"
  }
 },
 "nbformat": 4,
 "nbformat_minor": 2
}
